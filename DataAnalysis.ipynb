{
 "cells": [
  {
   "cell_type": "code",
   "execution_count": null,
   "id": "69b63f23",
   "metadata": {},
   "outputs": [],
   "source": [
    "import pandas as pd  \n",
    "\n"
   ]
  },
  {
   "cell_type": "code",
   "execution_count": null,
   "id": "e3a0f46e",
   "metadata": {},
   "outputs": [],
   "source": [
    "df = pd.read_csv('Student_performance_data .csv')\n",
    "df.head()"
   ]
  },
  {
   "cell_type": "code",
   "execution_count": null,
   "id": "8890a010",
   "metadata": {},
   "outputs": [],
   "source": [
    "def assign_grade(gpa):\n",
    "    if gpa >= 3.5:\n",
    "        return 'A'\n",
    "    elif 3.0 <= gpa < 3.5:\n",
    "        return 'B'\n",
    "    elif 2.5 <= gpa < 3.0:\n",
    "        return 'C'\n",
    "    elif 2.0 <= gpa < 2.5:\n",
    "        return 'D'\n",
    "    else:\n",
    "        return 'F'\n",
    "\n",
    "df['Grade'] = df['GPA'].apply(assign_grade)\n",
    "\n",
    "df.head(10)\n",
    "\n",
    "\n"
   ]
  },
  {
   "cell_type": "code",
   "execution_count": null,
   "id": "d05d9d44",
   "metadata": {},
   "outputs": [],
   "source": [
    "import numpy as np\n",
    "import math\n",
    "import matplotlib.pyplot as plt\n",
    "\n",
    "def calculate_grid(total_plots, columns_per_row=5):\n",
    "    \"\"\"Calculates the grid dimensions for subplots.\"\"\"\n",
    "    rows = math.ceil(total_plots / columns_per_row)\n",
    "    columns = min(total_plots, columns_per_row)\n",
    "    return rows, columns\n",
    "\n",
    "def Plot_Histograms(x_data, y_data, title=None, figsize=(15, 5), columns_per_row=5):\n",
    "    \"\"\"Plots histograms for each dataset in y_data, aligned with x_data if needed.\"\"\"\n",
    "\n",
    "    num_rows, num_columns = calculate_grid(len(y_data), columns_per_row)\n",
    "    print(f'DATA={len(y_data)}')\n",
    "\n",
    "    fig, axs = plt.subplots(num_rows, num_columns, figsize=(figsize[0], figsize[1] * num_rows))\n",
    "\n",
    "    if num_rows == 1:\n",
    "        axs = np.array([axs])\n",
    "\n",
    "    for i, yn in enumerate(y_data):\n",
    "        row = i // columns_per_row\n",
    "        col = i % columns_per_row\n",
    "\n",
    "        if num_rows > 1:\n",
    "          ax = axs[row, col]\n",
    "        else:\n",
    "          ax = axs[0,col]\n",
    "\n",
    "        ax.set_title(yn, fontsize=12)\n",
    "        ax.set_xlabel('Grade', fontsize=10) # Using yn as x label, you can change this.\n",
    "        ax.set_ylabel('Frequency', fontsize=10)\n",
    "        ax.hist(y_data[yn], bins=10, alpha=0.7, color='skyblue', edgecolor='black')\n",
    "\n",
    "        ax.grid(True, linestyle='--', alpha=0.5)\n",
    "        ax.tick_params(axis='both', which='major', labelsize=8)\n",
    "\n",
    "    for i in range(len(y_data), num_rows * num_columns):\n",
    "        row = i // columns_per_row\n",
    "        col = i % columns_per_row\n",
    "\n",
    "        if num_rows > 1:\n",
    "          fig.delaxes(axs[row, col])\n",
    "        else:\n",
    "          fig.delaxes(axs[0,col])\n",
    "\n",
    "    if title is not None:\n",
    "        fig.suptitle(title, fontsize=16)\n",
    "    fig.tight_layout(rect=[0, 0.03, 1, 0.95])\n",
    "    plt.show()"
   ]
  },
  {
   "cell_type": "code",
   "execution_count": null,
   "id": "5176c7a9",
   "metadata": {},
   "outputs": [],
   "source": [
    "x = np.array(df['Grade'])\n",
    "y1= np.array(df['ParentalEducation'])\n",
    "y2 = np.array(df['StudyTimeWeekly'])\n",
    "y3 = np.array(df['Absences'])\n",
    "y4 = np.array(df['Tutoring'])\n",
    "y5= np.array(df['ParentalSupport'])\n",
    "y6 = np.array(df['Extracurricular'])\n",
    "y7 = np.array(df['Sports'])\n",
    "y8 = np.array(df['Music'])\n",
    "y9 = np.array(df['Volunteering'])\n",
    "\n",
    "y = {'Parental Education' : y1, 'Study Time Weekly' : y2, 'Absences' : y3, 'Tutoring' : y4,'Parental Support' : y5, 'Extracurricular' : y6, 'Sports' : y7, 'Music' : y8, 'Volunteering': y9}\n",
    "\n",
    "Plot_Histograms(x,y, title = 'Raw Data')"
   ]
  },
  {
   "cell_type": "markdown",
   "id": "925b9197",
   "metadata": {},
   "source": [
    "This data analysis shows us that extracurricular and tutoring can be dropped with the skew data. Maybe after sorting the data we can re-attempt them but as of now we drop them. Study time and absence needs further inspection, but they do not have any relationship with the grade directly."
   ]
  },
  {
   "cell_type": "code",
   "execution_count": null,
   "id": "a7e0f8f7",
   "metadata": {},
   "outputs": [],
   "source": [
    "df.describe().transpose()"
   ]
  },
  {
   "cell_type": "code",
   "execution_count": null,
   "id": "afe14520",
   "metadata": {},
   "outputs": [],
   "source": [
    "x = np.array(df['Grade'])\n",
    "y1= np.array(df['ParentalEducation'])\n",
    "y2= np.array(df['ParentalSupport'])\n",
    "\n",
    "y = {'Parental Education' : y1, 'Parental Support' : y2}\n",
    "\n",
    "Plot_Histograms(x,y, title = 'Parental influence')"
   ]
  },
  {
   "cell_type": "markdown",
   "id": "e7927ce9",
   "metadata": {},
   "source": [
    "We can see signs that parental education has a positive trend for students up to C but the students that are B and up are adapted enough to school to not need parental education.\n",
    "\n",
    "Same with the parental support but it also includes B students.\n",
    "\n",
    "Thus, contacting parents regarding their influence we can identify early who might need extra help."
   ]
  },
  {
   "cell_type": "markdown",
   "id": "88896c28",
   "metadata": {},
   "source": [
    "We can see that linear regression can be used with absence and grade the more absent the less grade."
   ]
  },
  {
   "cell_type": "code",
   "execution_count": null,
   "id": "08192ba3",
   "metadata": {},
   "outputs": [],
   "source": [
    "features = ['ParentalSupport','Absences','StudyTimeWeekly','ParentalEducation','GPA']\n",
    "\n",
    "fig, ax = plt.subplots(figsize=(10,6))\n",
    "boxplot = df[features].boxplot(vert = False, ax=ax)  \n",
    "_ = ax.set_title('Box Plot: Features')"
   ]
  },
  {
   "cell_type": "code",
   "execution_count": null,
   "id": "b6bb9a3f",
   "metadata": {},
   "outputs": [],
   "source": [
    "import matplotlib.pyplot as plt\n",
    "from sklearn.preprocessing import StandardScaler\n",
    "\n",
    "# Assuming your data is in a DataFrame called 'df'\n",
    "features = ['GPA', 'ParentalEducation', 'StudyTimeWeekly', 'ParentalSupport', 'Absences']\n",
    "\n",
    "# Scale the data using StandardScaler\n",
    "scaler = StandardScaler()\n",
    "df[features] = scaler.fit_transform(df[features])  # Scale the specified columns\n",
    "\n",
    "# Plot the scaled data\n",
    "fig, ax = plt.subplots(figsize=(10, 6))\n",
    "df[features].boxplot(vert=False, ax=ax)\n",
    "ax.set_title('Box Plot: Scaled Features (StandardScaler)')\n",
    "plt.show()"
   ]
  },
  {
   "cell_type": "markdown",
   "id": "18104e2b",
   "metadata": {},
   "source": [
    "# Missing Value Treatment"
   ]
  },
  {
   "cell_type": "code",
   "execution_count": null,
   "id": "b175d301",
   "metadata": {},
   "outputs": [],
   "source": [
    "#checks the column for amount of null values. Expected outcome is 0 for all columns\n",
    "print(df.isnull().sum())\n",
    "\n",
    "# numeric data is filled with meadian and categorical is filled with mode\n",
    "df['StudyTimeWeekly'] = df['StudyTimeWeekly'].fillna(df['StudyTimeWeekly'].median())\n",
    "df['Absences'] = df['Absences'].fillna(df['Absences'].median())\n",
    "df['ParentalSupport'] = df['ParentalSupport'].fillna(df['ParentalSupport'].mode()[0])"
   ]
  },
  {
   "cell_type": "markdown",
   "id": "8dd46a9c",
   "metadata": {},
   "source": [
    "# Outlier Treatment "
   ]
  },
  {
   "cell_type": "code",
   "execution_count": 18,
   "id": "84dd4354",
   "metadata": {},
   "outputs": [],
   "source": [
    "# function using the iqr method to remove any outliers\n",
    "def iqr_remove_outliers(column):\n",
    "    Q1 = df[column].quantile(0.25)\n",
    "    Q3 = df[column].quantile(0.75)\n",
    "    \n",
    "    IQR = Q3 - Q1\n",
    "    \n",
    "    lower_bound = Q1 - 1.5 * IQR\n",
    "    upper_bound = Q3 + 1.5 * IQR\n",
    "    \n",
    "    df[column] = df[column].clip(lower_bound, upper_bound)\n",
    "\n",
    "\n",
    "\n",
    "for column in ['GPA', 'StudyTimeWeekly', 'Absences']:\n",
    "    iqr_remove_outliers(column)\n"
   ]
  }
 ],
 "metadata": {
  "kernelspec": {
   "display_name": "base",
   "language": "python",
   "name": "python3"
  },
  "language_info": {
   "codemirror_mode": {
    "name": "ipython",
    "version": 3
   },
   "file_extension": ".py",
   "mimetype": "text/x-python",
   "name": "python",
   "nbconvert_exporter": "python",
   "pygments_lexer": "ipython3",
   "version": "3.12.7"
  }
 },
 "nbformat": 4,
 "nbformat_minor": 5
}
