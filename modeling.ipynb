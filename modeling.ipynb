{
 "cells": [
  {
   "cell_type": "markdown",
   "id": "5e7469f8",
   "metadata": {},
   "source": [
    "# BrightPath Academy Data Modeling"
   ]
  },
  {
   "cell_type": "markdown",
   "id": "b2c40562",
   "metadata": {},
   "source": [
    "Group Members: (Add name to be recognized as contributor on the repo)\n",
    "- Reghard du Plessis 601287\n- Tiaan Dorfling 578128"
   ]
  },
  {
   "cell_type": "code",
   "execution_count": null,
   "id": "77e68198",
   "metadata": {
    "vscode": {
     "languageId": "plaintext"
    }
   },
   "outputs": [],
   "source": [
    "import pandas as pd  "
   ]
  },
  {
   "cell_type": "code",
   "execution_count": null,
   "id": "5cf0e92a",
   "metadata": {
    "vscode": {
     "languageId": "plaintext"
    }
   },
   "outputs": [],
   "source": [
    "def assign_grade(gpa):\n",
    "    if gpa >= 3.5:\n",
    "        return 'A'\n",
    "    elif 3.0 <= gpa < 3.5:\n",
    "        return 'B'\n",
    "    elif 2.5 <= gpa < 3.0:\n",
    "        return 'C'\n",
    "    elif 2.0 <= gpa < 2.5:\n",
    "        return 'D'\n",
    "    else:\n",
    "        return 'F'\n",
    "\n",
    "df['Grade'] = df['GPA'].apply(assign_grade)\n",
    "\n",
    "df.head(10)"
   ]
  },
  {
   "cell_type": "code",
   "execution_count": null,
   "id": "62313fc0",
   "metadata": {
    "vscode": {
     "languageId": "plaintext"
    }
   },
   "outputs": [],
   "source": [
    "import numpy as np\n",
    "import math\n",
    "import matplotlib.pyplot as plt\n",
    "\n",
    "def calculate_grid(total_plots, columns_per_row=5):\n",
    "    \"\"\"Calculates the grid dimensions for subplots.\"\"\"\n",
    "    rows = math.ceil(total_plots / columns_per_row)\n",
    "    columns = min(total_plots, columns_per_row)\n",
    "    return rows, columns\n",
    "\n",
    "def Plot_Histograms(x_data, y_data, title=None, figsize=(15, 5), columns_per_row=5):\n",
    "    \"\"\"Plots histograms for each dataset in y_data, aligned with x_data if needed.\"\"\"\n",
    "\n",
    "    num_rows, num_columns = calculate_grid(len(y_data), columns_per_row)\n",
    "    print(f'DATA={len(y_data)}')\n",
    "\n",
    "    fig, axs = plt.subplots(num_rows, num_columns, figsize=(figsize[0], figsize[1] * num_rows))\n",
    "\n",
    "    if num_rows == 1:\n",
    "        axs = np.array([axs])\n",
    "\n",
    "    for i, yn in enumerate(y_data):\n",
    "        row = i // columns_per_row\n",
    "        col = i % columns_per_row\n",
    "\n",
    "        if num_rows > 1:\n",
    "          ax = axs[row, col]\n",
    "        else:\n",
    "          ax = axs[0,col]\n",
    "\n",
    "        ax.set_title(yn, fontsize=12)\n",
    "        ax.set_xlabel('Grade', fontsize=10) # Using yn as x label, you can change this.\n",
    "        ax.set_ylabel('Frequency', fontsize=10)\n",
    "        ax.hist(y_data[yn], bins=10, alpha=0.7, color='skyblue', edgecolor='black')\n",
    "\n",
    "        ax.grid(True, linestyle='--', alpha=0.5)\n",
    "        ax.tick_params(axis='both', which='major', labelsize=8)\n",
    "\n",
    "    for i in range(len(y_data), num_rows * num_columns):\n",
    "        row = i // columns_per_row\n",
    "        col = i % columns_per_row\n",
    "\n",
    "        if num_rows > 1:\n",
    "          fig.delaxes(axs[row, col])\n",
    "        else:\n",
    "          fig.delaxes(axs[0,col])\n",
    "\n",
    "    if title is not None:\n",
    "        fig.suptitle(title, fontsize=16)\n",
    "    fig.tight_layout(rect=[0, 0.03, 1, 0.95])\n",
    "    plt.show()"
   ]
  },
  {
   "cell_type": "code",
   "execution_count": null,
   "id": "753a82ff",
   "metadata": {
    "vscode": {
     "languageId": "plaintext"
    }
   },
   "outputs": [],
   "source": [
    "x = np.array(df['Grade'])\n",
    "y1= np.array(df['ParentalEducation'])\n",
    "y2 = np.array(df['StudyTimeWeekly'])\n",
    "y3 = np.array(df['Absences'])\n",
    "y4 = np.array(df['Tutoring'])\n",
    "y5= np.array(df['ParentalSupport'])\n",
    "y6 = np.array(df['Extracurricular'])\n",
    "y7 = np.array(df['Sports'])\n",
    "y8 = np.array(df['Music'])\n",
    "y9 = np.array(df['Volunteering'])\n",
    "\n",
    "y = {'Parental Education' : y1, 'Study Time Weekly' : y2, 'Absences' : y3, 'Tutoring' : y4,'Parental Support' : y5, 'Extracurricular' : y6, 'Sports' : y7, 'Music' : y8, 'Volunteering': y9}\n",
    "\n",
    "Plot_Histograms(x,y, title = 'Raw Data')"
   ]
  },
  {
   "cell_type": "markdown",
   "id": "92353f5f",
   "metadata": {},
   "source": [
    "This data analysis shows us that extracurricular and tutoring can be dropped with the skew data. Maybe after sorting the data we can re-attempt them but as of now we drop them. Study time and absence needs further inspection, but they do not have any relationship with the grade directly."
   ]
  },
  {
   "cell_type": "code",
   "execution_count": null,
   "id": "3f3bb958",
   "metadata": {
    "vscode": {
     "languageId": "plaintext"
    }
   },
   "outputs": [],
   "source": [
    "x = np.array(df['Grade'])\n",
    "y1= np.array(df['ParentalEducation'])\n",
    "y2= np.array(df['ParentalSupport'])\n",
    "\n",
    "y = {'Parental Education' : y1, 'Parental Support' : y2}\n",
    "\n",
    "Plot_Histograms(x,y, title = 'Parental influence')"
   ]
  },
  {
   "cell_type": "markdown",
   "id": "cb938fe8",
   "metadata": {},
   "source": [
    "We can see signs that parental education has a positive trend for students up to C but the students that are B and up are adapted enough to school to not need parental education.\n",
    "\n",
    "Same with the parental support but it also includes B students.\n",
    "\n",
    "Thus, contacting parents regarding their influence we can identify early who might need extra help."
   ]
  }
 ],
 "metadata": {
  "language_info": {
   "name": "python"
  }
 },
 "nbformat": 4,
 "nbformat_minor": 5
}
