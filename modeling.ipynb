{
 "cells": [
  {
   "cell_type": "markdown",
   "id": "5e7469f8",
   "metadata": {},
   "source": [
    "# BrightPath Academy Data Modeling"
   ]
  },
  {
   "cell_type": "markdown",
   "id": "b2c40562",
   "metadata": {},
   "source": [
    "Group Members: (Add name to be recognized as contributor on the repo)\n",
    "- Reghard du Plessis 601287"
   ]
  },
  {
   "cell_type": "code",
   "execution_count": null,
   "id": "77e68198",
   "metadata": {
    "vscode": {
     "languageId": "plaintext"
    }
   },
   "outputs": [],
   "source": []
  }
 ],
 "metadata": {
  "language_info": {
   "name": "python"
  }
 },
 "nbformat": 4,
 "nbformat_minor": 5
}
