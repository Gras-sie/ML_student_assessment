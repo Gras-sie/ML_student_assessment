{
 "cells": [
  {
   "cell_type": "code",
   "execution_count": null,
   "id": "d019c755",
   "metadata": {},
   "outputs": [
    {
     "name": "stdout",
     "output_type": "stream",
     "text": [
      "\n",
      "GradeClass Distribution in Training Set:\n",
      "            Count  Percentage (%)\n",
      "GradeClass                       \n",
      "0.0            86            4.50\n",
      "1.0           215           11.24\n",
      "2.0           313           16.36\n",
      "3.0           331           17.30\n",
      "4.0           968           50.60\n"
     ]
    }
   ],
   "source": [
    "import os\n",
    "import pandas as pd\n",
    "from sklearn.model_selection import train_test_split\n",
    "\n",
    "# Set the name of the dataset file (should be in the same folder as this script)\n",
    "filename = \"Student_performance_data.csv\"\n",
    "\n",
    "# Try loading the dataset — if it’s missing, let the user know\n",
    "try:\n",
    "    data = pd.read_csv(filename)\n",
    "except FileNotFoundError:\n",
    "    raise FileNotFoundError(f\"File '{filename}' not found. Please check the path.\")\n",
    "\n",
    "# Make sure the column we're stratifying by actually exists\n",
    "if \"GradeClass\" not in data.columns:\n",
    "    raise ValueError(\"'GradeClass' column not found in dataset. Cannot stratify.\")\n",
    "\n",
    "# Split the data into training and testing sets (80/20 split)\n",
    "# Stratify makes sure the class distribution stays balanced across both sets\n",
    "train_data, test_data = train_test_split(\n",
    "    data,\n",
    "    test_size=0.2,\n",
    "    random_state=53,         \n",
    "    stratify=data[\"GradeClass\"]\n",
    ")\n",
    "\n",
    "# Set the output path and make sure the folder exists\n",
    "output_path = \"../Data\"\n",
    "os.makedirs(output_path, exist_ok=True)\n",
    "\n",
    "# Save both splits to CSV files for future use\n",
    "train_data.to_csv(os.path.join(output_path, \"train_data.csv\"), index=False)\n",
    "test_data.to_csv(os.path.join(output_path, \"test_data.csv\"), index=False)\n",
    "\n",
    "# Print a quick breakdown of how many students ended up in each grade for the training set\n",
    "print(\"\\nGradeClass Distribution in Training Set:\")\n",
    "counts = train_data[\"GradeClass\"].value_counts().sort_index()\n",
    "percentages = (counts / len(train_data) * 100).round(2)\n",
    "distribution_df = pd.DataFrame({\n",
    "    \"Count\": counts,\n",
    "    \"Percentage (%)\": percentages\n",
    "})\n",
    "print(distribution_df)\n"
   ]
  }
 ],
 "metadata": {
  "kernelspec": {
   "display_name": "base",
   "language": "python",
   "name": "python3"
  },
  "language_info": {
   "codemirror_mode": {
    "name": "ipython",
    "version": 3
   },
   "file_extension": ".py",
   "mimetype": "text/x-python",
   "name": "python",
   "nbconvert_exporter": "python",
   "pygments_lexer": "ipython3",
   "version": "3.12.7"
  }
 },
 "nbformat": 4,
 "nbformat_minor": 5
}
